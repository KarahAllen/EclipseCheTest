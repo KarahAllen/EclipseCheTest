import matplotlib.pyplot as plt
import numpy as np

# Generate some data
x = np.linspace(0, 20, 100)
y = np.sin(x)

# Create and display the plot
plt.plot(x, y)
plt.title("A Simple Sine Wave")
plt.xlabel("X-axis")
plt.ylabel("Y-axis")
plt.show()
